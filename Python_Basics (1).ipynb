{
  "nbformat": 4,
  "nbformat_minor": 0,
  "metadata": {
    "colab": {
      "provenance": []
    },
    "kernelspec": {
      "name": "python3",
      "display_name": "Python 3"
    },
    "language_info": {
      "name": "python"
    }
  },
  "cells": [
    {
      "cell_type": "markdown",
      "source": [
        "# Python Basics Questions"
      ],
      "metadata": {
        "id": "rZYcjuwqfJHD"
      }
    },
    {
      "cell_type": "markdown",
      "source": [
        "1. What is Python, and why is it popular ?\n",
        " - Python is a high-level, interpreted programming language.It is known for its readability and simple syntax, making it beginner-friendly.\n",
        "Python is versatile, used in web development, data science, automation, and more.\n",
        "It has a large community and a vast collection of libraries and frameworks.\n",
        "Python is compatible across various platforms like Windows, macOS, and Linux.\n",
        "It integrates well with other languages like C and Java.\n",
        "Its popularity is driven by ease of learning, flexibility, and broad usage.\n",
        "\n",
        "\n",
        "\n"
      ],
      "metadata": {
        "id": "C65C5WcZhHVc"
      }
    },
    {
      "cell_type": "markdown",
      "source": [
        "2. What is an interpreter in Python ?\n",
        "\n",
        "   - An interpreter in Python is a program that reads and executes Python code line by line. Unlike a compiler, which translates the entire code into machine language at once, an interpreter processes code one statement at a time and immediately executes it. This allows for interactive programming, where you can test and run code snippets quickly, making it easier for debugging and development."
      ],
      "metadata": {
        "id": "hff_uMf9iNkt"
      }
    },
    {
      "cell_type": "markdown",
      "source": [
        "3. What are pre-defined keywords in Python ?\n",
        "\n",
        "  - Pre-defined keywords in Python are reserved words that have special meaning and cannot be used as identifiers, such as variable names, function names, or class names.These keywords are part of the Python syntax and help define the structure and behavior of the program.Here are some examples of Python’s pre-defined keywords: False,None,True,and,as,assert,break,class."
      ],
      "metadata": {
        "id": "0ajwQgjViVkH"
      }
    },
    {
      "cell_type": "markdown",
      "source": [
        "4. Can keywords be used as variable names ?\n",
        "\n",
        " - No, keywords in Python cannot be used as variable names. Keywords are reserved words that have a predefined meaning in the language, and using them as variable names would cause a syntax error. For example, trying to name a variable if, class, or return would result in an error."
      ],
      "metadata": {
        "id": "-IehKdOqj9UI"
      }
    },
    {
      "cell_type": "markdown",
      "source": [
        "5. What is mutability in Python ?\n",
        "\n",
        " - Mutability in Python refers to whether an object's value can be changed after creation.\n",
        "Mutable objects, like lists and dictionaries, can be modified.\n",
        "Immutable objects, like strings and tuples, cannot be changed once created.\n",
        "Any operation on an immutable object creates a new object instead of modifying the original one."
      ],
      "metadata": {
        "id": "jLf5c4khiVx2"
      }
    },
    {
      "cell_type": "markdown",
      "source": [
        "6.  Why are lists mutable, but tuples are immutable ?\n",
        "\n",
        " - Lists are mutable because they are designed to be flexible, allowing changes like adding, removing, or modifying elements. This makes them suitable for cases where the data may need to change over time. On the other hand, tuples are immutable to ensure their contents remain constant, which is useful for ensuring data integrity and for use as keys in dictionaries or elements in sets, where immutability is required."
      ],
      "metadata": {
        "id": "rj5LsnJ1iV3K"
      }
    },
    {
      "cell_type": "markdown",
      "source": [
        "7.  What is the difference between “==” and “is” operators in Python ?\n",
        "\n",
        " - The == operator checks if the values of two objects are equal, meaning it compares the content of the objects. On the other hand, the is operator checks if two objects refer to the same memory location, meaning it compares the identity of the objects. While == is used to check value equality, is is used to verify if two variables point to the exact same object in memory."
      ],
      "metadata": {
        "id": "H9Vf6EjMiV7B"
      }
    },
    {
      "cell_type": "markdown",
      "source": [
        "8. What are logical operators in Python ?\n",
        "\n",
        " - Logical operators in Python are used to perform boolean operations. The and operator returns True if both operands are true, otherwise it returns False. The or operator returns True if at least one of the operands is true. The not operator negates the boolean value of its operand, returning True if the operand is False, and vice versa. These operators are essential for controlling the flow of a program based on multiple conditions, allowing for complex decision-making. They are commonly used in conditional statements like if, elif, and while. Logical operators enable combining multiple conditions efficiently.\n"
      ],
      "metadata": {
        "id": "Bu0LnASHiV-P"
      }
    },
    {
      "cell_type": "markdown",
      "source": [
        "9. What is type casting in Python ?\n",
        "\n",
        " - Type casting in Python refers to converting one data type into another. It allows you to change a variable from one type (e.g., integer, string, float) to another, either implicitly (automatically) or explicitly (manually). For explicit type casting, Python provides built-in functions like int(), float(), str(), and bool() to convert values. For example, you can convert a string to an integer using int() or a float to an integer using int(). Implicit type casting happens automatically when Python converts a smaller data type to a larger one, such as converting an integer to a float in arithmetic operations."
      ],
      "metadata": {
        "id": "MyzxxyWpiWBz"
      }
    },
    {
      "cell_type": "markdown",
      "source": [
        "10. What is the difference between implicit and explicit type casting ?\n",
        "\n",
        " - Implicit and explicit type casting in Python refer to how data types are converted. Implicit type casting happens automatically when Python converts a smaller data type to a larger one, like when an integer is added to a float and the integer is automatically converted to a float. This ensures smooth operations between different data types. In contrast, explicit type casting requires the programmer to manually convert a data type using functions like int(), float(), or str(). This is necessary when you want to ensure that a specific type is used for an operation. Implicit casting is automatic, while explicit casting is controlled by the programmer for precise type conversions."
      ],
      "metadata": {
        "id": "DifyCU-kiWEY"
      }
    },
    {
      "cell_type": "markdown",
      "source": [
        "11.  What is the purpose of conditional statements in Python ?\n",
        "\n",
        " - Conditional statements in Python allow a program to make decisions based on certain conditions. Using if, elif, and else, the program can execute different code blocks depending on whether the condition is True or False. This helps control the flow of the program. Conditional statements are essential for branching logic and handling various scenarios in a program."
      ],
      "metadata": {
        "id": "gDK33w8IogU3"
      }
    },
    {
      "cell_type": "markdown",
      "source": [
        "12. How does the elif statement work ?\n",
        "\n",
        "- The elif statement in Python is used to check multiple conditions after an initial if statement. If the if condition is False, Python evaluates the condition in the elif statement. If the elif condition is True, its corresponding block of code is executed. If none of the if or elif conditions are met, the else block (if present) will be executed. The elif statement helps manage multiple conditions efficiently without nesting multiple if statements."
      ],
      "metadata": {
        "id": "zInE0DFYogfI"
      }
    },
    {
      "cell_type": "markdown",
      "source": [
        "13.  What is the difference between for and while loops ?\n",
        "\n",
        " - The main difference between for and while loops in Python lies in how they handle iterations. A for loop is typically used when the number of iterations is known beforehand, such as when iterating over a sequence or a range of values. It automatically handles the iteration process. On the other hand, a while loop runs as long as a given condition is true, and the number of iterations is not predetermined, making it more flexible but potentially prone to running indefinitely if the condition is never met. Essentially, for loops are ideal for iterating over a fixed number of times or a sequence, while while loops are used when the repetition depends on a condition."
      ],
      "metadata": {
        "id": "jnMBX3wcogqn"
      }
    },
    {
      "cell_type": "markdown",
      "source": [
        "14.  Describe a scenario where a while loop is more suitable than a for loop ?\n",
        "\n",
        " - A while loop is more suitable than a for loop when the number of iterations is not known beforehand and depends on a condition that is evaluated during the execution of the loop. For example, if you want to keep asking the user for input until they provide a specific response, a while loop is ideal. The loop will continue running as long as the given condition remains true. This is useful in scenarios like waiting for a user to type \"quit\" to stop a program or checking a condition in real-time. Unlike a for loop, which is generally used when the number of iterations is predefined or based on a sequence, a while loop allows for more flexible, condition-driven repetition, making it perfect for cases where the stopping point isn’t predetermined."
      ],
      "metadata": {
        "id": "IgIWnoQGohUt"
      }
    },
    {
      "cell_type": "markdown",
      "source": [
        "# Practical Questions"
      ],
      "metadata": {
        "id": "XKTe89jWohYM"
      }
    },
    {
      "cell_type": "code",
      "source": [
        "# 1. Write a Python program to print \"Hello, World!\"\n",
        "\n",
        "print (\"Hello,World!\")"
      ],
      "metadata": {
        "colab": {
          "base_uri": "https://localhost:8080/"
        },
        "id": "RHEjdpEs3bwy",
        "outputId": "7813a0a9-4900-40ed-e4de-79ebc439b176"
      },
      "execution_count": 8,
      "outputs": [
        {
          "output_type": "stream",
          "name": "stdout",
          "text": [
            "Hello,World!\n"
          ]
        }
      ]
    },
    {
      "cell_type": "code",
      "source": [
        "# 2. Write a Python program that displays your name and age.\n",
        "\n",
        "Name = \"Mahir Ashaq Bhat\"\n",
        "Age = 25\n",
        "\n",
        "print(\"Name:\", \"Mahir Ashaq Bhat\")\n",
        "print(\"Age:\", 25)\n",
        ""
      ],
      "metadata": {
        "colab": {
          "base_uri": "https://localhost:8080/"
        },
        "id": "doBo2gCu9oyx",
        "outputId": "f1eb8bd5-24ba-465b-972a-4eb0ce628440"
      },
      "execution_count": 9,
      "outputs": [
        {
          "output_type": "stream",
          "name": "stdout",
          "text": [
            "Name: Mahir Ashaq Bhat\n",
            "Age: 25\n"
          ]
        }
      ]
    },
    {
      "cell_type": "code",
      "source": [
        "# 3. Write code to print all the pre-defined keywords in Python using the keyword library.\n",
        "\n",
        "[help(\"keywords\")]"
      ],
      "metadata": {
        "colab": {
          "base_uri": "https://localhost:8080/"
        },
        "id": "GQn29uQj9-ne",
        "outputId": "2806a1c1-86d6-4507-ec52-a9a877867c4b"
      },
      "execution_count": 16,
      "outputs": [
        {
          "output_type": "stream",
          "name": "stdout",
          "text": [
            "\n",
            "Here is a list of the Python keywords.  Enter any keyword to get more help.\n",
            "\n",
            "False               class               from                or\n",
            "None                continue            global              pass\n",
            "True                def                 if                  raise\n",
            "and                 del                 import              return\n",
            "as                  elif                in                  try\n",
            "assert              else                is                  while\n",
            "async               except              lambda              with\n",
            "await               finally             nonlocal            yield\n",
            "break               for                 not                 \n",
            "\n"
          ]
        },
        {
          "output_type": "execute_result",
          "data": {
            "text/plain": [
              "[None]"
            ]
          },
          "metadata": {},
          "execution_count": 16
        }
      ]
    },
    {
      "cell_type": "code",
      "source": [
        "# 4. Write a program that checks if a given word is a Python keyword.\n",
        "\n",
        "def check_keyword(word):\n",
        "\n",
        "    if keyword.iskeyword(word):\n",
        "        print(f\"'{word}' is a Python keyword.\")\n",
        "    else:\n",
        "        print(f\"'{word}' is not a Python keyword.\")\n",
        "\n",
        "word = input(\"Enter a word to check if it's a Python keyword: \")\n",
        "\n",
        "check_keyword(word)\n"
      ],
      "metadata": {
        "colab": {
          "base_uri": "https://localhost:8080/"
        },
        "id": "gsssy1vE_brw",
        "outputId": "3ae29b23-9632-43a1-dc9b-b5d4f9b7d0f5"
      },
      "execution_count": 21,
      "outputs": [
        {
          "output_type": "stream",
          "name": "stdout",
          "text": [
            "Enter a word to check if it's a Python keyword: True\n",
            "'True' is a Python keyword.\n"
          ]
        }
      ]
    },
    {
      "cell_type": "code",
      "source": [
        "# 5. Create a list and tuple in Python, and demonstrate how attempting to change an element works differently for each.\n",
        "\n",
        "my_list = [10, 20, 30, 40]\n",
        "my_tuple = (10, 20, 30, 40)\n",
        "\n",
        "print(\"Original List:\", my_list)\n",
        "my_list[2] = 100\n",
        "print(\"List after modification:\", my_list)\n",
        "\n",
        "print(\"\\nOriginal Tuple:\", my_tuple)\n",
        "try:\n",
        "    my_tuple[2] = 100\n",
        "except TypeError as e:\n",
        "    print(\"Error:\", e)\n",
        "\n"
      ],
      "metadata": {
        "colab": {
          "base_uri": "https://localhost:8080/"
        },
        "id": "DGrdrMjL_cNI",
        "outputId": "72ae21b2-712a-4cd0-9bb8-be7f6e8fa4b1"
      },
      "execution_count": 22,
      "outputs": [
        {
          "output_type": "stream",
          "name": "stdout",
          "text": [
            "Original List: [10, 20, 30, 40]\n",
            "List after modification: [10, 20, 100, 40]\n",
            "\n",
            "Original Tuple: (10, 20, 30, 40)\n",
            "Error: 'tuple' object does not support item assignment\n"
          ]
        }
      ]
    },
    {
      "cell_type": "code",
      "source": [
        "# 6. Write a function to demonstrate the behavior of mutable and immutable arguments.\n",
        "\n",
        "def demonstrate_mutability(a, b):\n",
        "    a += 5  # Immutable argument (int)\n",
        "    b.append(4)  # Mutable argument (list)\n",
        "\n",
        "x = 10  # Immutable\n",
        "y = [1, 2, 3]  # Mutable\n",
        "demonstrate_mutability(x, y)\n",
        "\n",
        "print(f\"Immutable after function: {x}\")  # x remains 10\n",
        "print(f\"Mutable after function: {y}\")  # y is modified to [1, 2, 3, 4]\n"
      ],
      "metadata": {
        "colab": {
          "base_uri": "https://localhost:8080/"
        },
        "id": "W51zWF4wBAVC",
        "outputId": "d96f7bcf-4a18-47ea-c40a-6c40aae01c6c"
      },
      "execution_count": 23,
      "outputs": [
        {
          "output_type": "stream",
          "name": "stdout",
          "text": [
            "Immutable after function: 10\n",
            "Mutable after function: [1, 2, 3, 4]\n"
          ]
        }
      ]
    },
    {
      "cell_type": "code",
      "source": [
        "# 7. Write a program to demonstrate the use of logical operators.\n",
        "\n",
        "def logical_operators_demo(a, b):\n",
        "\n",
        "    print(\"a and b:\", a and b)\n",
        "    print(\"a or b:\", a or b)\n",
        "    print(\"not a:\", not a)\n",
        "\n",
        "logical_operators_demo(True, False)\n"
      ],
      "metadata": {
        "colab": {
          "base_uri": "https://localhost:8080/"
        },
        "id": "b_tya-1PBAhX",
        "outputId": "b93978ba-3da8-4c40-8631-b1ae0190c6e5"
      },
      "execution_count": 24,
      "outputs": [
        {
          "output_type": "stream",
          "name": "stdout",
          "text": [
            "a and b: False\n",
            "a or b: True\n",
            "not a: False\n"
          ]
        }
      ]
    },
    {
      "cell_type": "code",
      "source": [
        "# 8. Write a Python program to convert user input from string to integer, float, and boolean types.\n",
        "\n",
        "# Taking user input as string\n",
        "user_input = input(\"Enter a value: \")\n",
        "\n",
        "# Converting to integer\n",
        "int_value = int(user_input) if user_input.isdigit() else \"Invalid integer\"\n",
        "\n",
        "# Converting to float\n",
        "try:\n",
        "    float_value = float(user_input)\n",
        "except ValueError:\n",
        "    float_value = \"Invalid float\"\n",
        "\n",
        "# Converting to boolean\n",
        "bool_value = user_input.lower() in ['true', '1', 'yes']\n",
        "\n",
        "# Displaying the results\n",
        "print(f\"Integer: {int_value}\")\n",
        "print(f\"Float: {float_value}\")\n",
        "print(f\"Boolean: {bool_value}\")\n"
      ],
      "metadata": {
        "colab": {
          "base_uri": "https://localhost:8080/"
        },
        "id": "nAkOtO4EBAr6",
        "outputId": "f5fe6e04-fe10-4f14-f80e-c887bd4c13ed"
      },
      "execution_count": 25,
      "outputs": [
        {
          "output_type": "stream",
          "name": "stdout",
          "text": [
            "Enter a value: 10\n",
            "Integer: 10\n",
            "Float: 10.0\n",
            "Boolean: False\n"
          ]
        }
      ]
    },
    {
      "cell_type": "code",
      "source": [
        "# 9. Write code to demonstrate type casting with list elements.\n",
        "\n",
        "# List with different types of elements\n",
        "mixed_list = [\"10\", \"20.5\", \"True\", \"30\"]\n",
        "\n",
        "# Convert string elements to appropriate types\n",
        "int_list = [int(i) if i.isdigit() else 0 for i in mixed_list]\n",
        "float_list = [float(i) if i.replace('.', '', 1).isdigit() else 0.0 for i in mixed_list]\n",
        "bool_list = [i.lower() == \"true\" if isinstance(i, str) else bool(i) for i in mixed_list]\n",
        "\n",
        "# Display the results\n",
        "print(\"Original list:\", mixed_list)\n",
        "print(\"Converted to integers:\", int_list)\n",
        "print(\"Converted to floats:\", float_list)\n",
        "print(\"Converted to booleans:\", bool_list)\n"
      ],
      "metadata": {
        "colab": {
          "base_uri": "https://localhost:8080/"
        },
        "id": "Gf9IOMl9BA3k",
        "outputId": "a7637e2b-c197-4f53-94da-c49f83d87a41"
      },
      "execution_count": 26,
      "outputs": [
        {
          "output_type": "stream",
          "name": "stdout",
          "text": [
            "Original list: ['10', '20.5', 'True', '30']\n",
            "Converted to integers: [10, 0, 0, 30]\n",
            "Converted to floats: [10.0, 20.5, 0.0, 30.0]\n",
            "Converted to booleans: [False, False, True, False]\n"
          ]
        }
      ]
    },
    {
      "cell_type": "code",
      "source": [
        "# 10. Write a program that checks if a number is positive, negative, or zero.\n",
        "\n",
        "# Taking user input\n",
        "num = float(input(\"Enter a number: \"))\n",
        "\n",
        "# Checking if the number is positive, negative, or zero\n",
        "if num > 0:\n",
        "    print(\"The number is positive.\")\n",
        "elif num < 0:\n",
        "    print(\"The number is negative.\")\n",
        "else:\n",
        "    print(\"The number is zero.\")\n",
        "\n"
      ],
      "metadata": {
        "colab": {
          "base_uri": "https://localhost:8080/"
        },
        "id": "Pfygp7hfBsaj",
        "outputId": "6d8dd483-5179-4b3b-eec1-4ea74cf38cce"
      },
      "execution_count": 28,
      "outputs": [
        {
          "output_type": "stream",
          "name": "stdout",
          "text": [
            "Enter a number: 99\n",
            "The number is positive.\n"
          ]
        }
      ]
    },
    {
      "cell_type": "code",
      "source": [
        "# 11. Write a for loop to print numbers from 1 to 10.\n",
        "\n",
        "# For loop to print numbers from 1 to 10\n",
        "for i in range(1, 11):\n",
        "    print(i)\n"
      ],
      "metadata": {
        "colab": {
          "base_uri": "https://localhost:8080/"
        },
        "id": "U0LJMbXjBskg",
        "outputId": "60c79b02-d23a-42fc-88ba-6f2f1d9df4fc"
      },
      "execution_count": 29,
      "outputs": [
        {
          "output_type": "stream",
          "name": "stdout",
          "text": [
            "1\n",
            "2\n",
            "3\n",
            "4\n",
            "5\n",
            "6\n",
            "7\n",
            "8\n",
            "9\n",
            "10\n"
          ]
        }
      ]
    },
    {
      "cell_type": "code",
      "source": [
        "# 12. Write a Python program to find the sum of all even numbers between 1 and 50.\n",
        "\n",
        "# Initialize the sum variable\n",
        "sum_even = 0\n",
        "\n",
        "# Loop through numbers from 1 to 50\n",
        "for i in range(1, 51):\n",
        "    if i % 2 == 0:  # Check if the number is even\n",
        "        sum_even += i  # Add the even number to the sum\n",
        "\n",
        "# Print the result\n",
        "print(\"Sum of all even numbers between 1 and 50:\", sum_even)\n"
      ],
      "metadata": {
        "colab": {
          "base_uri": "https://localhost:8080/"
        },
        "id": "jn5B-l_JBs1w",
        "outputId": "79679baf-e1fe-4d78-ff48-716f485867f6"
      },
      "execution_count": 30,
      "outputs": [
        {
          "output_type": "stream",
          "name": "stdout",
          "text": [
            "Sum of all even numbers between 1 and 50: 650\n"
          ]
        }
      ]
    },
    {
      "cell_type": "code",
      "source": [
        "# 13. Write a program to reverse a string using a while loop.\n",
        "\n",
        "# Input string\n",
        "string = \"hello\"\n",
        "\n",
        "# Initialize an empty string for the reversed string\n",
        "reversed_string = \"\"\n",
        "\n",
        "# Set an index to the last character of the string\n",
        "index = len(string) - 1\n",
        "\n",
        "# Use a while loop to reverse the string\n",
        "while index >= 0:\n",
        "    reversed_string += string[index]  # Add the character to reversed_string\n",
        "    index -= 1  # Move the index backward\n",
        "\n",
        "# Print the reversed string\n",
        "print(\"Reversed string:\", reversed_string)\n"
      ],
      "metadata": {
        "colab": {
          "base_uri": "https://localhost:8080/"
        },
        "id": "eAvTPh-1Bs7f",
        "outputId": "99178554-5e49-45f6-eca3-2bd5ae94113d"
      },
      "execution_count": 31,
      "outputs": [
        {
          "output_type": "stream",
          "name": "stdout",
          "text": [
            "Reversed string: olleh\n"
          ]
        }
      ]
    },
    {
      "cell_type": "code",
      "source": [
        "# 14. Write a Python program to calculate the factorial of a number provided by the user using a while loop.\n",
        "\n",
        "# Input number from the user\n",
        "num = int(input(\"Enter a number: \"))\n",
        "\n",
        "# Initialize factorial variable\n",
        "factorial = 1\n",
        "\n",
        "# Check if the number is non-negative\n",
        "if num < 0:\n",
        "    print(\"Factorial is not defined for negative numbers.\")\n",
        "else:\n",
        "    # Use a while loop to calculate the factorial\n",
        "    while num > 1:\n",
        "        factorial *= num\n",
        "        num -= 1\n",
        "\n",
        "    # Print the result\n",
        "    print(\"Factorial:\", factorial)\n",
        "\n"
      ],
      "metadata": {
        "colab": {
          "base_uri": "https://localhost:8080/"
        },
        "id": "sAnGeZnWBtgt",
        "outputId": "4ea3be22-d570-4445-dad3-1f11fcdd7f2f"
      },
      "execution_count": 33,
      "outputs": [
        {
          "output_type": "stream",
          "name": "stdout",
          "text": [
            "Enter a number: 5\n",
            "Factorial: 120\n"
          ]
        }
      ]
    }
  ]
}